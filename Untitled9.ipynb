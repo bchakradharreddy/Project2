{
  "nbformat": 4,
  "nbformat_minor": 0,
  "metadata": {
    "colab": {
      "provenance": [],
      "authorship_tag": "ABX9TyMVsLyIgWRZudZ98AbvBQ79",
      "include_colab_link": true
    },
    "kernelspec": {
      "name": "python3",
      "display_name": "Python 3"
    },
    "language_info": {
      "name": "python"
    }
  },
  "cells": [
    {
      "cell_type": "markdown",
      "metadata": {
        "id": "view-in-github",
        "colab_type": "text"
      },
      "source": [
        "<a href=\"https://colab.research.google.com/github/bchakradharreddy/Project2/blob/main/Untitled9.ipynb\" target=\"_parent\"><img src=\"https://colab.research.google.com/assets/colab-badge.svg\" alt=\"Open In Colab\"/></a>"
      ]
    },
    {
      "cell_type": "code",
      "source": [
        "# word counter\n",
        "def count(text):\n",
        "  # count the words in given text\n",
        "  word=text.split()\n",
        "  return len(word)\n",
        "# main program\n",
        "# call the function\n",
        "text=input(\"enter the paragraph:\")\n",
        "#when user given worng input\n",
        "if not text:\n",
        "  print(\"enter the correct paragraph\")\n",
        "else:\n",
        "  # call the function\n",
        "  word_count=count(text)\n",
        "  print(\"word count:\",word_count)"
      ],
      "metadata": {
        "id": "9UXrfAVvxuXs",
        "colab": {
          "base_uri": "https://localhost:8080/"
        },
        "outputId": "e2391ef2-d2e3-46d2-d69b-b860306f1103"
      },
      "execution_count": 1,
      "outputs": [
        {
          "output_type": "stream",
          "name": "stdout",
          "text": [
            "enter the paragraph:Python is a general-purpose programming language that's used to build websites, software, and automate tasks. It's known for being beginner-friendly and versatile, making it one of the most popular programming languages. \n",
            "word count: 31\n"
          ]
        }
      ]
    }
  ]
}